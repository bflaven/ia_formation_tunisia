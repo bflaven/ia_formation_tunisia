{
  "nbformat": 4,
  "nbformat_minor": 0,
  "metadata": {
    "colab": {
      "provenance": []
    },
    "kernelspec": {
      "name": "python3",
      "display_name": "Python 3"
    },
    "language_info": {
      "name": "python"
    }
  },
  "cells": [
    {
      "cell_type": "markdown",
      "source": [
        "# Notebook avec prompts éditoriaux avec l'API Gemini de Google\n"
      ],
      "metadata": {
        "id": "d8z71GEuiISE"
      }
    },
    {
      "cell_type": "markdown",
      "source": [
        "### ÉTAPE 1: Installation des bibliothèques nécessaires\n",
        "Installer le SDK Python de Google AI avec pip"
      ],
      "metadata": {
        "id": "3egag_kujU3M"
      }
    },
    {
      "cell_type": "code",
      "source": [
        "!pip install -q google-generativeai"
      ],
      "metadata": {
        "id": "NAuJzYs1jazx"
      },
      "execution_count": null,
      "outputs": []
    },
    {
      "cell_type": "markdown",
      "source": [
        "### ÉTAPE 2: Importation des modules nécessaires\n"
      ],
      "metadata": {
        "id": "iNMUEVrEjiYc"
      }
    },
    {
      "cell_type": "code",
      "source": [
        "import os\n",
        "import json\n",
        "import io\n",
        "import google.generativeai as genai\n",
        "from IPython.display import display, Markdown\n",
        "from google.colab import files, userdata\n"
      ],
      "metadata": {
        "id": "RhME-6sUjrc4"
      },
      "execution_count": null,
      "outputs": []
    },
    {
      "cell_type": "markdown",
      "source": [
        "### ÉTAPE 3: Configuration de l'authentification API\n",
        "\n",
        "Récupérer la clé API de manière sécurisée depuis les secrets de Colab\n",
        "Vous devez d'abord enregistrer votre clé dans l'outil de secrets de Colab"
      ],
      "metadata": {
        "id": "F5ff7f3FjzCw"
      }
    },
    {
      "cell_type": "code",
      "source": [
        "api_key = userdata.get('GEMINI_API_KEY')\n",
        "\n",
        "print('API KEY is OK')\n",
        "\n",
        "# Alternative moins sécurisée : définir directement la clé API (déconseillé)\n",
        "# api_key = \"VOTRE_CLÉ_API\"  # Remplacez par votre clé API réelle"
      ],
      "metadata": {
        "colab": {
          "base_uri": "https://localhost:8080/"
        },
        "id": "kcnpECWMjytg",
        "outputId": "e8c68643-c72e-4fcb-f8f7-2a73afae973e"
      },
      "execution_count": null,
      "outputs": [
        {
          "output_type": "stream",
          "name": "stdout",
          "text": [
            "API KEY is OK\n"
          ]
        }
      ]
    },
    {
      "cell_type": "markdown",
      "source": [
        "### ÉTAPE 4: Configuration de la bibliothèque d'IA générative\n",
        "\n",
        "Initialiser la bibliothèque avec votre clé API"
      ],
      "metadata": {
        "id": "SOgSeOLKk-LW"
      }
    },
    {
      "cell_type": "code",
      "source": [
        "genai.configure(api_key=api_key)\n",
        "\n",
        "\n",
        "def get_gemini_response(prompt_text, model=\"gemini-1.5-pro\"):\n",
        "    \"\"\"\n",
        "    Obtenir une réponse du modèle Gemini.\n",
        "\n",
        "    Args:\n",
        "        prompt_text (str): Le texte de la requête à envoyer\n",
        "        model (str): Le modèle Gemini à utiliser\n",
        "\n",
        "    Returns:\n",
        "        La réponse générée par l'API\n",
        "    \"\"\"\n",
        "    # Initialiser le modèle\n",
        "    model = genai.GenerativeModel(model)\n",
        "\n",
        "    # Générer le contenu\n",
        "    response = model.generate_content(prompt_text)\n",
        "\n",
        "    return response"
      ],
      "metadata": {
        "id": "3d-sZOkblDzR"
      },
      "execution_count": null,
      "outputs": []
    },
    {
      "cell_type": "markdown",
      "source": [
        "### Étape 4: Création du prompt\n",
        "Créer le prompt avec des variables"
      ],
      "metadata": {
        "id": "93prSCuIlIUw"
      }
    },
    {
      "cell_type": "code",
      "source": [
        "# Définition des variables directement dans le code principal\n",
        "language = \"french\"\n",
        "\n",
        "# CONTENU ARTICLE V1\n",
        "\n",
        "# content = \"\"\"\n",
        "# La cinquantaine de pays qui viennent en aide à l'Ukraine en guerre ont promis vendredi de renforcer leur aide militaire,\n",
        "# au moment où les États-Unis ont réduit leur soutien. \"Aujourd'hui, j'annonce une enveloppe de 350\n",
        "# millions de livres (407 millions d'euros)\", a déclaré à Bruxelles le ministre britannique de la Défense John Healey.\n",
        "# Récit d'Eliott Samuel et David Gilberg.\n",
        "# \"\"\"\n",
        "\n",
        "# CONTENU ARTICLE V2\n",
        "content = \"\"\"\n",
        "Un butin et une contre-enquête. C'est ce que le musée du Quai Branly offre à ses visiteurs à partir de mercredi 15 avril,\n",
        "avec une exposition consacrée à la \"mission ethnographique et linguistique Dakar-Djibouti\".\n",
        "Une expédition qui, dans les années 1930, a servi à s'approprier des milliers d'objets du patrimoine culturel africain.\n",
        "Le grand musée parisien des \"arts premiers\" s'est ainsi penché sur les méthodes de travail et d'acquisition\n",
        "de cette mission pluridisciplinaire, ouvrant ses fonds et ses archives à des chercheurs – notamment africains – appelés à s'interroger\n",
        "sur les procédés de l'équipe expéditionnaire.\n",
        "Entre 1931 et 1933, à travers 14 pays du continent africain – tous sous domination coloniale,\n",
        "à l’exception de l’Éthiopie –, tous les moyens sont bons pour prendre possession des quelque 3 000\n",
        "objets expédiés ensuite au Musée d’ethnographie du Trocadéro, à Paris, l'ancêtre du Musée de l’Homme.\n",
        "L’objectif annoncé de cette \"mission ethnographique\" était de documenter des cultures africaines\n",
        "supposées en voie de disparition sous l’effet de la colonisation.\n",
        "Mais sous couvert de recherche scientifique, le groupe chapeauté par l’ethnologue Marcel Griaule et\n",
        "l'écrivain Michel Leiris se livre à un pillage en bonne et due forme. Les méthodes de l'expédition soulèvent des questions éthiques,\n",
        "notamment sur les relations de pouvoir entre colonisateurs et colonisés.\n",
        "\"\"\"\n",
        "\n",
        "# PROMPT_1 : Depuis un {content} en {language} , générer 3 titres et 5 mots-clés en {language}\n",
        "# prompt_example = f\"\"\"\n",
        "#     You are a smart and intelligent journalist. Craft three compelling and unique\n",
        "#     titles for an online post about the topic given in the content: '{content}' in '{language}'.\n",
        "#     Ensure to incorporate SEO best practices by including the most common and relevant keywords from\n",
        "#     the content in each title. For each proposal, print only the result in a Python dictionary object\n",
        "#     with 'title' as a string and 'keywords' as a list. Do not print anything else. Include all three results into a Python list object\n",
        "#     like defined below. Output Format:[{{\"title\": \"The value of the title\", \"keywords\": [\"keyword1\", \"keyword2\", \"keyword3\"]}},\n",
        "#     {{\"title\": \"The value of the title\", \"keywords\": [\"keyword1\", \"keyword2\", \"keyword3\"]}},\n",
        "#     {{\"title\": \"The value of the title\", \"keywords\":[\"keyword1\", \"keyword2\", \"keyword3\"]}}]\n",
        "#     \"\"\"\n",
        "\n",
        "# PROMPT_2 : Générer le résumé dans une {language}, sans longueur spécifique\n",
        "# prompt_example = f\"\"\"\n",
        "# Given the input text in '{language}': Input: '{content}' Produce a summary of the text in '{language}'.\n",
        "# The summary must be in the same language from the original text in '{language}'.\n",
        "# Captures the main ideas and key points of the text.\n",
        "# Summary Does not include verbatim sentences from the original text. For the proposal,\n",
        "# print only the result in a Python dictionary object with the summary as a string.\n",
        "# Include the all result into a Python list object like define below. Output Format: [ {{\"summary\": \"The summary of the content\"}}]\n",
        "# \"\"\"\n",
        "\n",
        "# PROMPT_3 : Générer le résumé dans une {language} avec une longueur spécifique {summary_length}\n",
        "# summary_length = 5\n",
        "# prompt_example = f\"\"\"\n",
        "# Given the input text in '{language}': Input: '{content}' Produce a '{summary_length}' sentences length summary of the text in '{language}'.\n",
        "# The summary must be in the same language from the original text in '{language}'.\n",
        "# Captures the main ideas and key points of the text. Summary Does not include verbatim sentences from the original text.\n",
        "# For the proposal, print only the result in a Python dictionary object with the summary as a string and the summary_length keywords as a integer.\n",
        "# Include the all result into a Python list object like define below.\n",
        "# Output Format: [ {{\"summary\": \"The summary of the content\", \"summary_length\": summary_length_number }}]\n",
        "# \"\"\"\n",
        "\n",
        "# PROMPT_4 : Depuis un contenu en  {language} , générer 3 tweets de 280 caractéres et 3 hashtags en  {language}\n",
        "prompt_example = f\"\"\"\n",
        "You are a smart and intelligent community manager.\n",
        "Craft three compelling messages of 280 characters each for an online post in {language} about the topic given in the content in {language}.\n",
        "Ensure to incorporate Social Media Optimization (SMO) best practices by including the most common keywords from the content.\n",
        "For each proposal in {language}, print only the result in a Python dictionary object with 'message' as a string and 'hashtags' as a list of hashtags.\n",
        "In the list of hashtags, for each hashtag, do not forget to add the sign \"#\" in front of it e.g. \"hashtags\": [\"#hashtag1\", \"#hashtag2\", \"#hashtag3\"].\n",
        "Include all results into a Python list object as defined below.\n",
        "Output Format:[{{\"message\": \"The value of the message\", \"hashtags\": [\"#hashtag1\", \"#hashtag2\", \"#hashtag3\"]}}, {{\"message\": \"The value of the message\", \"hashtags\": [\"#hashtag1\", \"#hashtag2\", \"#hashtag3\"]}}, {{\"message\": \"The value of the message\", \"hashtags\": [\"#hashtag1\", \"#hashtag2\", \"#hashtag3\"]}}] Content: '{content}'\n",
        "\"\"\"\n",
        "\n",
        "\n",
        "print(f\"Requête chargée: {prompt_example}\\n\")\n"
      ],
      "metadata": {
        "id": "CEpCFwvYlXe5",
        "colab": {
          "base_uri": "https://localhost:8080/"
        },
        "outputId": "3eb949c7-57b0-45d0-8153-289a6a8d457f"
      },
      "execution_count": null,
      "outputs": [
        {
          "output_type": "stream",
          "name": "stdout",
          "text": [
            "Requête chargée: \n",
            "You are a smart and intelligent community manager.\n",
            "Craft three compelling messages of 280 characters each for an online post in french about the topic given in the content in french.\n",
            "Ensure to incorporate Social Media Optimization (SMO) best practices by including the most common keywords from the content.\n",
            "For each proposal in french, print only the result in a Python dictionary object with 'message' as a string and 'hashtags' as a list of hashtags.\n",
            "In the list of hashtags, for each hashtag, do not forget to add the sign \"#\" in front of it e.g. \"hashtags\": [\"#hashtag1\", \"#hashtag2\", \"#hashtag3\"].\n",
            "Include all results into a Python list object as defined below.\n",
            "Output Format:[{\"message\": \"The value of the message\", \"hashtags\": [\"#hashtag1\", \"#hashtag2\", \"#hashtag3\"]}, {\"message\": \"The value of the message\", \"hashtags\": [\"#hashtag1\", \"#hashtag2\", \"#hashtag3\"]}, {\"message\": \"The value of the message\", \"hashtags\": [\"#hashtag1\", \"#hashtag2\", \"#hashtag3\"]}] Content: '\n",
            "Un butin et une contre-enquête. C'est ce que le musée du Quai Branly offre à ses visiteurs à partir de mercredi 15 avril,\n",
            "avec une exposition consacrée à la \"mission ethnographique et linguistique Dakar-Djibouti\".\n",
            "Une expédition qui, dans les années 1930, a servi à s'approprier des milliers d'objets du patrimoine culturel africain.\n",
            "Le grand musée parisien des \"arts premiers\" s'est ainsi penché sur les méthodes de travail et d'acquisition\n",
            "de cette mission pluridisciplinaire, ouvrant ses fonds et ses archives à des chercheurs – notamment africains – appelés à s'interroger\n",
            "sur les procédés de l'équipe expéditionnaire.\n",
            "Entre 1931 et 1933, à travers 14 pays du continent africain – tous sous domination coloniale,\n",
            "à l’exception de l’Éthiopie –, tous les moyens sont bons pour prendre possession des quelque 3 000\n",
            "objets expédiés ensuite au Musée d’ethnographie du Trocadéro, à Paris, l'ancêtre du Musée de l’Homme.\n",
            "L’objectif annoncé de cette \"mission ethnographique\" était de documenter des cultures africaines\n",
            "supposées en voie de disparition sous l’effet de la colonisation.\n",
            "Mais sous couvert de recherche scientifique, le groupe chapeauté par l’ethnologue Marcel Griaule et\n",
            "l'écrivain Michel Leiris se livre à un pillage en bonne et due forme. Les méthodes de l'expédition soulèvent des questions éthiques,\n",
            "notamment sur les relations de pouvoir entre colonisateurs et colonisés.\n",
            "'\n",
            "\n",
            "\n"
          ]
        }
      ]
    },
    {
      "cell_type": "markdown",
      "source": [
        "### Étape 5: Réponse de Gemini\n",
        "La réponse est au format défini dans le prompt\n"
      ],
      "metadata": {
        "id": "A1u_Krga7MNp"
      }
    },
    {
      "cell_type": "code",
      "source": [
        "print(\"Envoi à l'API Gemini...\\n\")\n",
        "\n",
        "# Obtenir la réponse de Gemini\n",
        "try:\n",
        "    # Appel à l'API Gemini\n",
        "    response = get_gemini_response(prompt_example)\n",
        "\n",
        "    # Afficher la réponse\n",
        "    print(\"Réponse de Gemini:\")\n",
        "    print(\"-\" * 50)\n",
        "    display(Markdown(response.text))\n",
        "    print(\"-\" * 50)\n",
        "except Exception as e:\n",
        "    # Gestion des erreurs\n",
        "    print(f\"Erreur: {e}\")\n",
        "    print(\"Si vous voyez une erreur de clé API, assurez-vous de configurer correctement votre clé API.\")\n",
        "    print(\"Instructions: Allez sur Google AI Studio pour obtenir une clé API\")\n",
        "    print(\"Ensuite dans Colab, cliquez sur l'icône 🔑 dans la barre latérale gauche pour l'enregistrer comme GEMINI_API_KEY\")\n"
      ],
      "metadata": {
        "colab": {
          "base_uri": "https://localhost:8080/"
        },
        "id": "BN4geFQ67enP",
        "outputId": "43cf461d-a0af-4108-fd99-6e6efd7b0928"
      },
      "execution_count": null,
      "outputs": [
        {
          "metadata": {
            "tags": null
          },
          "name": "stdout",
          "output_type": "stream",
          "text": [
            "Envoi à l'API Gemini...\n",
            "\n"
          ]
        }
      ]
    }
  ]
}